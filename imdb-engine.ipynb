{
 "cells": [
  {
   "cell_type": "markdown",
   "metadata": {},
   "source": [
    "## Import important libraries, movies and their ratings."
   ]
  },
  {
   "cell_type": "code",
   "execution_count": 28,
   "metadata": {},
   "outputs": [
    {
     "name": "stdout",
     "output_type": "stream",
     "text": [
      "      tconst  titleType                                      primaryTitle  \\\n",
      "0  tt0221078      short                         Circle Dance, Ute Indians   \n",
      "1  tt8862466  tvEpisode  ¡El #TeamOsos va con todo al \"Reality del amor\"!   \n",
      "2  tt7157720  tvEpisode                                     Episode #3.41   \n",
      "3  tt2974998  tvEpisode                         Episode dated 16 May 1987   \n",
      "4  tt2903620  tvEpisode                  Frances Bavier: Aunt Bee Retires   \n",
      "\n",
      "                                      originalTitle  isAdult startYear  \\\n",
      "0                         Circle Dance, Ute Indians        0      1898   \n",
      "1  ¡El #TeamOsos va con todo al \"Reality del amor\"!        0      2018   \n",
      "2                                     Episode #3.41        0      2016   \n",
      "3                         Episode dated 16 May 1987        0      1987   \n",
      "4                  Frances Bavier: Aunt Bee Retires        0      1973   \n",
      "\n",
      "  endYear runtimeMinutes             genres  \n",
      "0      \\N             \\N  Documentary,Short  \n",
      "1      \\N             \\N       Comedy,Drama  \n",
      "2      \\N             29   Comedy,Game-Show  \n",
      "3      \\N             \\N               News  \n",
      "4      \\N             \\N        Documentary  \n",
      "      tconst  averageRating  numVotes\n",
      "0  tt0000001            5.6      1608\n",
      "1  tt0000002            6.0       197\n",
      "2  tt0000003            6.5      1285\n",
      "3  tt0000004            6.1       121\n",
      "4  tt0000005            6.1      2050\n"
     ]
    }
   ],
   "source": [
    "#import library \n",
    "import pandas as pd\n",
    "import numpy as np\n",
    "pd.set_option('display.max_columns', None)\n",
    "\n",
    "#read data set using tab separator\n",
    "movie_df = pd.read_csv('https://storage.googleapis.com/dqlab-dataset/title.basics.tsv', sep = '\\t') #untuk menyimpan title_basics.tsv\n",
    "rating_df = pd.read_csv('https://storage.googleapis.com/dqlab-dataset/title.ratings.tsv', sep = '\\t') #untuk menyimpan title.ratings.tsv\n",
    "\n",
    "#first 5 movie and rating data\n",
    "print(movie_df.head())\n",
    "print(rating_df.head())\n"
   ]
  },
  {
   "cell_type": "markdown",
   "metadata": {},
   "source": [
    "## Understanding and Cleaning Data"
   ]
  },
  {
   "cell_type": "code",
   "execution_count": 29,
   "metadata": {},
   "outputs": [
    {
     "name": "stdout",
     "output_type": "stream",
     "text": [
      "<class 'pandas.core.frame.DataFrame'>\n",
      "RangeIndex: 9025 entries, 0 to 9024\n",
      "Data columns (total 9 columns):\n",
      " #   Column          Non-Null Count  Dtype \n",
      "---  ------          --------------  ----- \n",
      " 0   tconst          9025 non-null   object\n",
      " 1   titleType       9025 non-null   object\n",
      " 2   primaryTitle    9011 non-null   object\n",
      " 3   originalTitle   9011 non-null   object\n",
      " 4   isAdult         9025 non-null   int64 \n",
      " 5   startYear       9025 non-null   object\n",
      " 6   endYear         9025 non-null   object\n",
      " 7   runtimeMinutes  9025 non-null   object\n",
      " 8   genres          9014 non-null   object\n",
      "dtypes: int64(1), object(8)\n",
      "memory usage: 634.7+ KB\n",
      "None\n",
      "<class 'pandas.core.frame.DataFrame'>\n",
      "RangeIndex: 1030009 entries, 0 to 1030008\n",
      "Data columns (total 3 columns):\n",
      " #   Column         Non-Null Count    Dtype  \n",
      "---  ------         --------------    -----  \n",
      " 0   tconst         1030009 non-null  object \n",
      " 1   averageRating  1030009 non-null  float64\n",
      " 2   numVotes       1030009 non-null  int64  \n",
      "dtypes: float64(1), int64(1), object(1)\n",
      "memory usage: 23.6+ MB\n",
      "None\n"
     ]
    }
   ],
   "source": [
    "## Understanding data each columns using info func \n",
    "print(movie_df.info())\n",
    "print(rating_df.info())"
   ]
  },
  {
   "cell_type": "code",
   "execution_count": 30,
   "metadata": {},
   "outputs": [
    {
     "name": "stdout",
     "output_type": "stream",
     "text": [
      "tconst             0\n",
      "titleType          0\n",
      "primaryTitle      14\n",
      "originalTitle     14\n",
      "isAdult            0\n",
      "startYear          0\n",
      "endYear            0\n",
      "runtimeMinutes     0\n",
      "genres            11\n",
      "dtype: int64\n"
     ]
    }
   ],
   "source": [
    "##checking total missing values on each columns at movies data\n",
    "\n",
    "print(movie_df.isnull().sum())"
   ]
  },
  {
   "cell_type": "code",
   "execution_count": 31,
   "metadata": {},
   "outputs": [
    {
     "name": "stdout",
     "output_type": "stream",
     "text": [
      "Total data for the new updated dataset:  9011\n"
     ]
    }
   ],
   "source": [
    "##Seems like there are 2 title columns that contain missing value, so we decided to fill new movie_df that contains no missing value at primaryTitle and originalTitle\n",
    "\n",
    "movie_df = movie_df.loc[(movie_df['primaryTitle'].notnull() & movie_df['originalTitle'].notnull())]\n",
    "\n",
    "print(\"Total data for the new updated dataset: \", len(movie_df))"
   ]
  },
  {
   "cell_type": "code",
   "execution_count": 32,
   "metadata": {},
   "outputs": [
    {
     "name": "stdout",
     "output_type": "stream",
     "text": [
      "          tconst  titleType  \\\n",
      "9014  tt10233364  tvEpisode   \n",
      "9015  tt10925142  tvEpisode   \n",
      "9016  tt10970874  tvEpisode   \n",
      "9017  tt11670006  tvEpisode   \n",
      "9018  tt11868642  tvEpisode   \n",
      "9019   tt2347742  tvEpisode   \n",
      "9020   tt3984412  tvEpisode   \n",
      "9021   tt8740950  tvEpisode   \n",
      "9022   tt9822816  tvEpisode   \n",
      "9023   tt9900062  tvEpisode   \n",
      "9024   tt9909210  tvEpisode   \n",
      "\n",
      "                                           primaryTitle originalTitle  \\\n",
      "9014  Rolling in the Deep Dish\\tRolling in the Deep ...             0   \n",
      "9015  The IMDb Show on Location: Star Wars Galaxy's ...             0   \n",
      "9016  Die Bauhaus-Stadt Tel Aviv - Vorbild für die M...             0   \n",
      "9017  ...ein angenehmer Unbequemer...\\t...ein angene...             0   \n",
      "9018  GGN Heavyweight Championship Lungs With Mike T...             0   \n",
      "9019  No sufras por la alergia esta primavera\\tNo su...             0   \n",
      "9020  I'm Not Going to Come Last, I'm Just Going to ...             0   \n",
      "9021  Weight Loss Resolution Restart - Ins & Outs of...             0   \n",
      "9022  Zwischen Vertuschung und Aufklärung - Missbrau...             0   \n",
      "9023  The Direction of Yuu's Love: Hings Aren't Goin...             0   \n",
      "9024  Politik und/oder Moral - Wie weit geht das Ver...             0   \n",
      "\n",
      "      isAdult startYear endYear          runtimeMinutes genres  \n",
      "9014     2019        \\N      \\N              Reality-TV    NaN  \n",
      "9015     2019        \\N      \\N               Talk-Show    NaN  \n",
      "9016     2019        \\N      \\N                      \\N    NaN  \n",
      "9017     1981        \\N      \\N             Documentary    NaN  \n",
      "9018     2020        \\N      \\N               Talk-Show    NaN  \n",
      "9019     2004        \\N      \\N                      \\N    NaN  \n",
      "9020     2014        \\N      \\N              Reality-TV    NaN  \n",
      "9021     2015        \\N      \\N              Reality-TV    NaN  \n",
      "9022     2019        \\N      \\N                      \\N    NaN  \n",
      "9023     1994        \\N      \\N  Animation,Comedy,Drama    NaN  \n",
      "9024     2005        \\N      \\N                      \\N    NaN  \n"
     ]
    }
   ],
   "source": [
    "##Also there is 1 columns ('genres') that have 11 missing values. We need to check that data first and decide how to handle missing values\n",
    "\n",
    "print(movie_df.loc[movie_df['genres'].isnull()])"
   ]
  },
  {
   "cell_type": "code",
   "execution_count": 33,
   "metadata": {},
   "outputs": [
    {
     "name": "stdout",
     "output_type": "stream",
     "text": [
      "Total data for the new updated dataset:  9000\n"
     ]
    }
   ],
   "source": [
    "##we decide to update movie dataset by removing those missing genres value\n",
    "\n",
    "movie_df = movie_df.loc[(movie_df['genres'].notnull())]\n",
    "\n",
    "print('Total data for the new updated dataset: ', len(movie_df))"
   ]
  },
  {
   "cell_type": "code",
   "execution_count": 34,
   "metadata": {},
   "outputs": [
    {
     "name": "stdout",
     "output_type": "stream",
     "text": [
      "[1898. 2018. 2016. 1987. 1973.]\n",
      "[  nan 2005. 1955. 2006. 1999.]\n",
      "[nan 29.  7. 23. 85.]\n"
     ]
    }
   ],
   "source": [
    "##we found that theres '//N' value at some columns like startYear, endYear and runtimeMinutes. we will replace that value to np.nan to make it easier for the next step\n",
    "\n",
    "movie_df['startYear'] = movie_df['startYear'].replace('\\\\N', np.nan)\n",
    "movie_df['startYear'] = movie_df['startYear'].astype('float64')\n",
    "print(movie_df['startYear'].unique()[:5])\n",
    "\n",
    "#mengubah nilai '\\\\N' pada endYear menjadi np.nan dan cast kolomnya menjadi float64\n",
    "movie_df['endYear'] = movie_df['endYear'].replace('\\\\N', np.nan)\n",
    "movie_df['endYear'] = movie_df['endYear'].astype('float64')\n",
    "print(movie_df['endYear'].unique()[:5])\n",
    "\n",
    "#mengubah nilai '\\\\N' pada runtimeMinutes menjadi np.nan dan cast kolomnya menjadi float64\n",
    "movie_df['runtimeMinutes'] = movie_df['runtimeMinutes'].replace('\\\\N', np.nan)\n",
    "movie_df['runtimeMinutes'] = movie_df['runtimeMinutes'].astype('float64')\n",
    "print(movie_df['runtimeMinutes'].unique()[:5])"
   ]
  },
  {
   "cell_type": "code",
   "execution_count": 35,
   "metadata": {},
   "outputs": [
    {
     "name": "stdout",
     "output_type": "stream",
     "text": [
      "0    Documentary,Short\n",
      "1         Comedy,Drama\n",
      "2     Comedy,Game-Show\n",
      "3                 News\n",
      "4          Documentary\n",
      "Name: genres, dtype: object\n"
     ]
    }
   ],
   "source": [
    "## we found that at genres data theres multiple values in 1 data and got separate by ','. so we will transform those data to list to make it easier for the modelling phase\n",
    "\n",
    "print(movie_df['genres'].head())\n"
   ]
  },
  {
   "cell_type": "code",
   "execution_count": 36,
   "metadata": {},
   "outputs": [
    {
     "name": "stdout",
     "output_type": "stream",
     "text": [
      "0    [Documentary, Short]\n",
      "1         [Comedy, Drama]\n",
      "2     [Comedy, Game-Show]\n",
      "3                      []\n",
      "4                      []\n",
      "Name: genres, dtype: object\n"
     ]
    }
   ],
   "source": [
    "## transforming to list\n",
    "def transform_to_list(x):\n",
    "    if ',' in x: \n",
    "    #ubah menjadi list apabila ada data pada kolom genre\n",
    "        return x.split(',')\n",
    "    else: \n",
    "    #jika tidak ada data, ubah menjadi list kosong\n",
    "        return []\n",
    "\n",
    "movie_df['genres'] = movie_df['genres'].apply(lambda x: transform_to_list(x))\n",
    "print(movie_df['genres'].head())"
   ]
  },
  {
   "cell_type": "code",
   "execution_count": 42,
   "metadata": {},
   "outputs": [
    {
     "name": "stdout",
     "output_type": "stream",
     "text": [
      "      tconst  averageRating  numVotes\n",
      "0  tt0000001            5.6      1608\n",
      "1  tt0000002            6.0       197\n",
      "2  tt0000003            6.5      1285\n",
      "3  tt0000004            6.1       121\n",
      "4  tt0000005            6.1      2050\n",
      "5  tt0000006            5.1       111\n",
      "6  tt0000007            5.4       639\n",
      "7  tt0000008            5.4      1760\n",
      "8  tt0000009            5.8       136\n",
      "9  tt0000010            6.9      5778\n",
      "<class 'pandas.core.frame.DataFrame'>\n",
      "RangeIndex: 1030009 entries, 0 to 1030008\n",
      "Data columns (total 3 columns):\n",
      " #   Column         Non-Null Count    Dtype  \n",
      "---  ------         --------------    -----  \n",
      " 0   tconst         1030009 non-null  object \n",
      " 1   averageRating  1030009 non-null  float64\n",
      " 2   numVotes       1030009 non-null  int64  \n",
      "dtypes: float64(1), int64(1), object(1)\n",
      "memory usage: 23.6+ MB\n",
      "None\n"
     ]
    }
   ],
   "source": [
    "## now we will handle missing values from rating dataset\n",
    "\n",
    "print(rating_df.head(10))\n",
    "print(rating_df.info())"
   ]
  },
  {
   "cell_type": "code",
   "execution_count": 43,
   "metadata": {},
   "outputs": [
    {
     "name": "stdout",
     "output_type": "stream",
     "text": [
      "      tconst  titleType              primaryTitle             originalTitle  \\\n",
      "0  tt0043745      short                 Lion Down                 Lion Down   \n",
      "1  tt0167491      video         Wicked Covergirls         Wicked Covergirls   \n",
      "2  tt6574096  tvEpisode      Shadow Play - Part 2      Shadow Play - Part 2   \n",
      "3  tt6941700  tvEpisode              RuPaul Roast              RuPaul Roast   \n",
      "4  tt7305674      video  UCLA Track & Field Promo  UCLA Track & Field Promo   \n",
      "\n",
      "   isAdult  startYear  endYear  runtimeMinutes  \\\n",
      "0        0     1951.0      NaN             7.0   \n",
      "1        1     1998.0      NaN            85.0   \n",
      "2        0     2017.0      NaN            22.0   \n",
      "3        0     2017.0      NaN             NaN   \n",
      "4        0     2017.0      NaN             NaN   \n",
      "\n",
      "                           genres  averageRating  numVotes  \n",
      "0     [Animation, Comedy, Family]            7.1       459  \n",
      "1                              []            5.7         7  \n",
      "2  [Adventure, Animation, Comedy]            8.5       240  \n",
      "3                              []            8.0        11  \n",
      "4                  [Short, Sport]            9.7         7  \n"
     ]
    }
   ],
   "source": [
    "#as the 2 dataset have been cleaned, then we will try to merge those data by inner join method\n",
    "\n",
    "movie_rating_df = pd.merge(movie_df, rating_df, on='tconst', how='inner')\n",
    "print(movie_rating_df.head())\n"
   ]
  },
  {
   "cell_type": "code",
   "execution_count": 44,
   "metadata": {},
   "outputs": [
    {
     "name": "stdout",
     "output_type": "stream",
     "text": [
      "<class 'pandas.core.frame.DataFrame'>\n",
      "Int64Index: 1004 entries, 0 to 1374\n",
      "Data columns (total 11 columns):\n",
      " #   Column          Non-Null Count  Dtype  \n",
      "---  ------          --------------  -----  \n",
      " 0   tconst          1004 non-null   object \n",
      " 1   titleType       1004 non-null   object \n",
      " 2   primaryTitle    1004 non-null   object \n",
      " 3   originalTitle   1004 non-null   object \n",
      " 4   isAdult         1004 non-null   int64  \n",
      " 5   startYear       1004 non-null   float64\n",
      " 6   endYear         17 non-null     float64\n",
      " 7   runtimeMinutes  1004 non-null   float64\n",
      " 8   genres          1004 non-null   object \n",
      " 9   averageRating   1004 non-null   float64\n",
      " 10  numVotes        1004 non-null   int64  \n",
      "dtypes: float64(4), int64(2), object(5)\n",
      "memory usage: 94.1+ KB\n",
      "None\n"
     ]
    }
   ],
   "source": [
    "\n",
    "#we still see some NA values aat 2 columns, we will get rid of it\n",
    "movie_rating_df = movie_rating_df.dropna(subset=['startYear', 'runtimeMinutes'])\n",
    "\n",
    "#we will check the data to make sure no NAN values.\n",
    "print(movie_rating_df.info())"
   ]
  },
  {
   "cell_type": "markdown",
   "metadata": {},
   "source": [
    "##Building simple recommender system using weighted average algorithm"
   ]
  },
  {
   "cell_type": "code",
   "execution_count": null,
   "metadata": {},
   "outputs": [],
   "source": [
    "#code the algorithm\n",
    "def imdb_weighted_rating(df, var=0.8):\n",
    "    v = df[___]\n",
    "    R = df[___]\n",
    "    C = df[___].mean()\n",
    "    m = df[___].quantile(var)\n",
    "    df['score'] = ___ #Rumus IMDb \n",
    "    return df['score']\n",
    "    \n",
    "imdb_weighted_rating(movie_rating_df)\n",
    "\n",
    "#melakukan pengecekan dataframe\n",
    "print(movie_rating_df.head())"
   ]
  }
 ],
 "metadata": {
  "kernelspec": {
   "display_name": "Python 3.9.12 ('base')",
   "language": "python",
   "name": "python3"
  },
  "language_info": {
   "codemirror_mode": {
    "name": "ipython",
    "version": 3
   },
   "file_extension": ".py",
   "mimetype": "text/x-python",
   "name": "python",
   "nbconvert_exporter": "python",
   "pygments_lexer": "ipython3",
   "version": "3.9.12"
  },
  "orig_nbformat": 4,
  "vscode": {
   "interpreter": {
    "hash": "ad2bdc8ecc057115af97d19610ffacc2b4e99fae6737bb82f5d7fb13d2f2c186"
   }
  }
 },
 "nbformat": 4,
 "nbformat_minor": 2
}
